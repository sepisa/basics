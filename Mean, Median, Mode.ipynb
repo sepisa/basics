{
 "cells": [
  {
   "cell_type": "markdown",
   "metadata": {},
   "source": [
    "## Mean, Median, Mode"
   ]
  },
  {
   "cell_type": "code",
   "execution_count": 4,
   "metadata": {},
   "outputs": [],
   "source": [
    "%matplotlib inline\n",
    "import matplotlib.pyplot as plt\n",
    "import numpy as np\n",
    "import pandas as pd"
   ]
  },
  {
   "cell_type": "code",
   "execution_count": 2,
   "metadata": {},
   "outputs": [
    {
     "data": {
      "text/plain": [
       "27082.09289166802"
      ]
     },
     "execution_count": 2,
     "metadata": {},
     "output_type": "execute_result"
    }
   ],
   "source": [
    "#it is a gussian distribution which the paramteres random.normal(center=0.0, width=1.0, size=None) if our distribution is \n",
    "#gussian so the mean and median is close to each other\n",
    "incomes = np.random.normal(27000, 15000,10000)\n",
    "np.mean(incomes)"
   ]
  },
  {
   "cell_type": "code",
   "execution_count": 6,
   "metadata": {},
   "outputs": [
    {
     "data": {
      "text/plain": [
       "26976.6910513709"
      ]
     },
     "execution_count": 6,
     "metadata": {},
     "output_type": "execute_result"
    }
   ],
   "source": [
    "np.median(incomes)"
   ]
  },
  {
   "cell_type": "code",
   "execution_count": 5,
   "metadata": {},
   "outputs": [
    {
     "data": {
      "image/png": "[encoded data removed]",
      "text/plain": [
       "<Figure size 432x288 with 1 Axes>"
      ]
     },
     "metadata": {
      "needs_background": "light"
     },
     "output_type": "display_data"
    }
   ],
   "source": [
    "plt.hist(incomes, 50)\n",
    "plt.show()"
   ]
  },
  {
   "cell_type": "code",
   "execution_count": 7,
   "metadata": {},
   "outputs": [],
   "source": [
    "incomes = np.append(incomes,[1000000000])"
   ]
  },
  {
   "cell_type": "code",
   "execution_count": 11,
   "metadata": {},
   "outputs": [
    {
     "data": {
      "text/plain": [
       "127069.3859530727"
      ]
     },
     "execution_count": 11,
     "metadata": {},
     "output_type": "execute_result"
    }
   ],
   "source": [
    "np.mean(incomes)"
   ]
  },
  {
   "cell_type": "code",
   "execution_count": 12,
   "metadata": {},
   "outputs": [
    {
     "data": {
      "text/plain": [
       "26978.48821095569"
      ]
     },
     "execution_count": 12,
     "metadata": {},
     "output_type": "execute_result"
    }
   ],
   "source": [
    "np.median(incomes)"
   ]
  },
  {
   "cell_type": "code",
   "execution_count": 15,
   "metadata": {},
   "outputs": [
    {
     "data": {
      "text/plain": [
       "array([30, 77, 47, 52, 72, 42, 83, 31, 68, 29, 66, 76, 65, 80, 25, 36, 58,\n",
       "       26, 71, 38, 44, 41, 25, 58, 67, 21, 27, 44, 31, 58, 80, 81, 75, 65,\n",
       "       23, 64, 61, 39, 45, 81, 43, 32, 54, 80, 68, 84, 62, 73, 53, 51, 59,\n",
       "       61, 55, 84, 46, 76, 49, 84, 65, 41, 29, 89, 84, 83, 87, 80, 39, 73,\n",
       "       65, 28, 44, 35, 59, 79, 87, 37, 20, 65, 54, 59, 68, 35, 58, 60, 40,\n",
       "       52, 39, 72, 51, 64, 68, 85, 54, 29, 77, 80, 67, 24, 74, 76, 77, 78,\n",
       "       79, 81, 50, 55, 35, 57, 62, 34, 70, 61, 39, 62, 43, 42, 70, 39, 80,\n",
       "       18, 22, 68, 52, 77, 47, 73, 66, 69, 68, 76, 85, 25, 36, 60, 81, 29,\n",
       "       85, 35, 56, 42, 74, 21, 27, 71, 74, 78, 27, 60, 76, 26, 72, 52, 53,\n",
       "       79, 84, 45, 62, 42, 62, 50, 47, 79, 39, 36, 85, 35, 27, 41, 29, 66,\n",
       "       44, 64, 34, 66, 87, 24, 53, 31, 76, 54, 77, 21, 78, 18, 80, 26, 26,\n",
       "       74, 53, 80, 20, 79, 71, 38, 57, 38, 52, 58, 57, 30, 62, 73, 51, 52,\n",
       "       70, 69, 36, 71, 68, 63, 83, 64, 89, 60, 22, 37, 76, 55, 48, 64, 31,\n",
       "       44, 38, 71, 18, 23, 35, 70, 75, 87, 36, 61, 28, 76, 39, 20, 57, 26,\n",
       "       52, 83, 56, 22, 70, 19, 66, 29, 20, 32, 39, 26, 32, 81, 65, 23, 74,\n",
       "       39, 40, 39, 64, 33, 79, 25, 54, 72, 57, 41, 18, 40, 21, 63, 31, 44,\n",
       "       32, 50, 44, 64, 60, 52, 37, 89, 52, 33, 25, 49, 49, 49, 89, 62, 29,\n",
       "       62, 27, 21, 75, 81, 42, 41, 24, 44, 41, 75, 65, 54, 51, 89, 61, 47,\n",
       "       71, 28, 80, 38, 85, 31, 43, 86, 30, 28, 36, 72, 64, 41, 35, 76, 57,\n",
       "       47, 47, 44, 19, 82, 19, 29, 60, 81, 49, 77, 25, 55, 23, 48, 28, 44,\n",
       "       86, 51, 47, 33, 56, 85, 82, 46, 27, 89, 63, 49, 88, 60, 66, 64, 34,\n",
       "       63, 61, 87, 32, 30, 28, 86, 71, 72, 64, 22, 28, 36, 80, 33, 24, 76,\n",
       "       78, 54, 74, 30, 43, 49, 23, 64, 70, 47, 64, 49, 28, 30, 44, 32, 55,\n",
       "       53, 55, 41, 33, 89, 53, 52, 33, 19, 63, 74, 49, 44, 75, 34, 23, 41,\n",
       "       66, 66, 29, 78, 65, 21, 23, 36, 27, 34, 57, 62, 18, 49, 66, 65, 87,\n",
       "       78, 53, 86, 63, 62, 42, 88, 18, 74, 77, 25, 58, 80, 74, 76, 72, 18,\n",
       "       69, 26, 82, 50, 42, 68, 65, 70, 82, 55, 32, 75, 59, 52, 68, 61, 52,\n",
       "       75, 28, 34, 22, 87, 61, 34, 57, 62, 74, 40, 75, 21, 49, 86, 64, 19,\n",
       "       24, 86, 77, 39, 23, 58, 57, 43, 33, 87, 43, 89, 32, 34, 47, 73, 78,\n",
       "       29, 45, 67, 57, 41, 62, 79])"
      ]
     },
     "execution_count": 15,
     "metadata": {},
     "output_type": "execute_result"
    }
   ],
   "source": [
    "#generate some fake age for 500 persons np.random.randint(Start, end, tedad)\n",
    "age = np.random.randint(18, 90, 500)\n",
    "age"
   ]
  },
  {
   "cell_type": "code",
   "execution_count": 16,
   "metadata": {},
   "outputs": [
    {
     "data": {
      "text/plain": [
       "53.752"
      ]
     },
     "execution_count": 16,
     "metadata": {},
     "output_type": "execute_result"
    }
   ],
   "source": [
    "np.mean(age)"
   ]
  },
  {
   "cell_type": "code",
   "execution_count": null,
   "metadata": {},
   "outputs": [],
   "source": [
    "# np.median(age)\n",
    "# if run this error accure"
   ]
  },
  {
   "cell_type": "markdown",
   "metadata": {},
   "source": [
    "for mode we must use scipy\n",
    "and mode use for distinct valuse not for countiues"
   ]
  },
  {
   "cell_type": "code",
   "execution_count": 19,
   "metadata": {},
   "outputs": [
    {
     "data": {
      "text/plain": [
       "ModeResult(mode=array([64]), count=array([13]))"
      ]
     },
     "execution_count": 19,
     "metadata": {},
     "output_type": "execute_result"
    }
   ],
   "source": [
    "from scipy import stats\n",
    "stats.mode(age)"
   ]
  }
 ],
 "metadata": {
  "kernelspec": {
   "display_name": "Python 3",
   "language": "python",
   "name": "python3"
  },
  "language_info": {
   "codemirror_mode": {
    "name": "ipython",
    "version": 3
   },
   "file_extension": ".py",
   "mimetype": "text/x-python",
   "name": "python",
   "nbconvert_exporter": "python",
   "pygments_lexer": "ipython3",
   "version": "3.8.3"
  }
 },
 "nbformat": 4,
 "nbformat_minor": 4
}
